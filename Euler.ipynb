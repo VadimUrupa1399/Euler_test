{
  "nbformat": 4,
  "nbformat_minor": 0,
  "metadata": {
    "colab": {
      "provenance": []
    },
    "kernelspec": {
      "name": "python3",
      "display_name": "Python 3"
    },
    "language_info": {
      "name": "python"
    }
  },
  "cells": [
    {
      "cell_type": "code",
      "source": [
        "# 1 Euler \tMultiples of 3 or 5\n",
        "sum(i for i in range(1000) if i % 3 == 0 or i % 5 == 0)"
      ],
      "metadata": {
        "colab": {
          "base_uri": "https://localhost:8080/"
        },
        "id": "mYonfWMATuOL",
        "outputId": "9e1d9c78-3a90-43f5-ae57-69c137331121"
      },
      "execution_count": null,
      "outputs": [
        {
          "output_type": "execute_result",
          "data": {
            "text/plain": [
              "233168"
            ]
          },
          "metadata": {},
          "execution_count": 7
        }
      ]
    },
    {
      "cell_type": "code",
      "source": [
        "# 2 Euler \tEven Fibonacci numbers\n",
        "def fib(n):\n",
        "    if n == 0:\n",
        "        return 1\n",
        "    elif n == 1:\n",
        "        return 2\n",
        "    else:\n",
        "        return fib(n-1)+fib(n-2)\n",
        "\n",
        "tot = 0\n",
        "n = 0\n",
        "while fib(n) <= 4000000:\n",
        "    if fib(n) % 2 == 0:\n",
        "        tot += fib(n)\n",
        "    n += 1\n",
        "\n",
        "print(tot, n)"
      ],
      "metadata": {
        "colab": {
          "base_uri": "https://localhost:8080/"
        },
        "id": "okE5l8KMfxE4",
        "outputId": "08d32dbe-1bdc-4ad5-b3ed-684850e6dbb3"
      },
      "execution_count": null,
      "outputs": [
        {
          "output_type": "stream",
          "name": "stdout",
          "text": [
            "4613732 32\n"
          ]
        }
      ]
    },
    {
      "cell_type": "code",
      "source": [
        "# 3 Euler Largest prime factor\n",
        "p = 600851475143 \n",
        "\n",
        "n = 2 \n",
        "\n",
        "while n * n < p:\n",
        "\n",
        "    while p%n == 0:\n",
        "\n",
        "        p = p / n\n",
        "\n",
        "    n = n + 1\n",
        "\n",
        "print (p)"
      ],
      "metadata": {
        "colab": {
          "base_uri": "https://localhost:8080/"
        },
        "id": "HDmJvTmqn3kB",
        "outputId": "796dfbc7-4cb3-488f-de69-eccb7a15754a"
      },
      "execution_count": null,
      "outputs": [
        {
          "output_type": "stream",
          "name": "stdout",
          "text": [
            "6857.0\n"
          ]
        }
      ]
    },
    {
      "cell_type": "code",
      "source": [
        "# 4 Euler. Largest palindrome product of 3 digit\n",
        "n = 0\n",
        "for a in range(999, 100, -1):\n",
        "    for b in range(a, 100, -1):\n",
        "        x = a * b\n",
        "        if x > n:\n",
        "            s = str(a * b)\n",
        "            if s == s[::-1]:\n",
        "                n = a * b\n",
        "print(n)"
      ],
      "metadata": {
        "colab": {
          "base_uri": "https://localhost:8080/"
        },
        "id": "IzH9cdndoq7U",
        "outputId": "74f03bd6-943d-4efd-dc23-cd1efb424725"
      },
      "execution_count": null,
      "outputs": [
        {
          "output_type": "stream",
          "name": "stdout",
          "text": [
            "906609\n"
          ]
        }
      ]
    },
    {
      "cell_type": "code",
      "source": [
        "# 5 Euler Smallest multiple\n",
        "from math import gcd\n",
        "def lcm(a,b):\n",
        "   # Calculate the lowest common multiple of two integers a and b\"\\\n",
        "    return a*b//gcd(a,b)\n",
        "from functools import reduce\n",
        "reduce(lcm, range(1,20+1))"
      ],
      "metadata": {
        "colab": {
          "base_uri": "https://localhost:8080/"
        },
        "id": "-msucd6XqY0x",
        "outputId": "19164c17-bc69-4b4d-fd25-e92388608891"
      },
      "execution_count": null,
      "outputs": [
        {
          "output_type": "execute_result",
          "data": {
            "text/plain": [
              "232792560"
            ]
          },
          "metadata": {},
          "execution_count": 17
        }
      ]
    },
    {
      "cell_type": "code",
      "source": [
        "# 6 Euler Sum square difference\n",
        "nlist = list(range(1, 11))\n",
        "\n",
        "sum_square = 0\n",
        "for n in nlist:\n",
        "    sum_square += (n ** 2)\n",
        "\n",
        "square_sum = sum(nlist) ** 2\n",
        "\n",
        "assert(square_sum - sum_square == 2640)\n",
        "nlist = list(range(1, 101))\n",
        "\n",
        "sum_square = 0\n",
        "for n in nlist:\n",
        "    sum_square += (n ** 2)\n",
        "\n",
        "square_sum = sum(nlist) ** 2\n",
        "\n",
        "print(square_sum - sum_square)"
      ],
      "metadata": {
        "colab": {
          "base_uri": "https://localhost:8080/"
        },
        "id": "f4x2To_ItpXj",
        "outputId": "86872972-247e-4940-fa77-7d1b3b30ddc0"
      },
      "execution_count": null,
      "outputs": [
        {
          "output_type": "stream",
          "name": "stdout",
          "text": [
            "25164150\n"
          ]
        }
      ]
    },
    {
      "cell_type": "code",
      "source": [
        "# 7 Euler 10001st prime\n",
        "def isPrime(n):\n",
        "    if n < 2: return \"Neither prime, nor composite\"\n",
        "    for i in range(2, int(n**0.5) + 1):\n",
        "        if n % i == 0:\n",
        "            return False\n",
        "    return True\n",
        "\n",
        "# returns the nth prime number\n",
        "def nthPrime(n):\n",
        "    numberOfPrimes = 0\n",
        "    prime = 1\n",
        "\n",
        "    while numberOfPrimes < n:\n",
        "        prime += 1\n",
        "        if isPrime(prime):\n",
        "            numberOfPrimes += 1\n",
        "    return prime\n",
        "\n",
        "print(nthPrime(10001))"
      ],
      "metadata": {
        "colab": {
          "base_uri": "https://localhost:8080/"
        },
        "id": "kIp8ZJDSwaZV",
        "outputId": "96e3e3b0-db17-497b-8e3b-a286ee2e6b8a"
      },
      "execution_count": null,
      "outputs": [
        {
          "output_type": "stream",
          "name": "stdout",
          "text": [
            "104743\n"
          ]
        }
      ]
    },
    {
      "cell_type": "code",
      "source": [
        "# 8 Euler Largest product in a series\n",
        "s = \"7316717653133062491922511967442657474235534919493496983520312774506326239578318016984801869478851843858615607891129494954595017379583319528532088055111254069874715852386305071569329096329522744304355766896648950445244523161731856403098711121722383113622298934233803081353362766142828064444866452387493035890729629049156044077239071381051585930796086670172427121883998797908792274921901699720888093776657273330010533678812202354218097512545405947522435258490771167055601360483958644670632441572215539753697817977846174064955149290862569321978468622482839722413756570560574902614079729686524145351004748216637048440319989000889524345065854122758866688116427171479924442928230863465674813919123162824586178664583591245665294765456828489128831426076900422421902267105562632111110937054421750694165896040807198403850962455444362981230987879927244284909188845801561660979191338754992005240636899125607176060588611646710940507754100225698315520005593572972571636269561882670428252483600823257530420752963450\"\n",
        "adjacentLength = 13\n",
        "largestProduct = 0\n",
        "\n",
        "for i in range(0, len(s) - adjacentLength + 1):\n",
        "\n",
        "  product = 1\n",
        "\n",
        "  for j in range(i, i + adjacentLength):\n",
        "    product *= int(s[j: j + 1])\n",
        "\n",
        "  if product > largestProduct:\n",
        "    largestProduct = product\n",
        "\n",
        "print (largestProduct)"
      ],
      "metadata": {
        "colab": {
          "base_uri": "https://localhost:8080/"
        },
        "id": "9NzoYKHgw6mI",
        "outputId": "df0e371e-bc6b-4d46-e00b-5205c47de525"
      },
      "execution_count": null,
      "outputs": [
        {
          "output_type": "stream",
          "name": "stdout",
          "text": [
            "23514624000\n"
          ]
        }
      ]
    },
    {
      "cell_type": "code",
      "source": [
        "# 9 Special Pythagorean triplet\n",
        "for a in range(3, 1000):\n",
        "    for b in range (a + 1, 999):\n",
        "        cSquared = a**2 + b**2\n",
        "        c = cSquared**0.5\n",
        "\n",
        "        if a + b + c == 1000:\n",
        "            product = a * b * c\n",
        "            print(product)\n",
        "            break"
      ],
      "metadata": {
        "colab": {
          "base_uri": "https://localhost:8080/"
        },
        "id": "D9m7uRm4xUAm",
        "outputId": "3072df39-ca9c-4fa2-b935-ea4a43493ecf"
      },
      "execution_count": null,
      "outputs": [
        {
          "output_type": "stream",
          "name": "stdout",
          "text": [
            "31875000.0\n"
          ]
        }
      ]
    },
    {
      "cell_type": "code",
      "source": [
        "# 10 Euler Summation of primes\n",
        "import numpy as np\n",
        "def sum_primes(n):\n",
        "  ps = np.ones((n,), dtype=bool)\n",
        "  for p in range(2, int(n**.5 + 1)):\n",
        "    if ps[p]: ps[p * p::p] = False\n",
        "  return np.sum(np.nonzero(ps), dtype='i8') - 1\n",
        "\n",
        "sum_primes(2000000)"
      ],
      "metadata": {
        "colab": {
          "base_uri": "https://localhost:8080/"
        },
        "id": "VpsBDEX5xmBY",
        "outputId": "ade80d1a-123b-4c0a-969b-31d7da57cbcc"
      },
      "execution_count": null,
      "outputs": [
        {
          "output_type": "execute_result",
          "data": {
            "text/plain": [
              "142913828922"
            ]
          },
          "metadata": {},
          "execution_count": 23
        }
      ]
    }
  ]
}